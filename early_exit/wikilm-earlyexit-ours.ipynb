{
 "cells": [
  {
   "cell_type": "code",
   "execution_count": 1,
   "id": "6a894707-602e-4b80-ae5a-f5a19af8e40d",
   "metadata": {},
   "outputs": [],
   "source": [
    "import numpy as np\n",
    "import pandas as pd\n",
    "import seaborn as sns\n",
    "from scipy import stats\n",
    "from matplotlib import pyplot as plt\n",
    "\n",
    "sns.set(rc={'figure.figsize':(8,5),\n",
    "            \"font.size\":16,\n",
    "            \"axes.titlesize\":16,\n",
    "            \"axes.labelsize\":16,\n",
    "            \"xtick.labelsize\": 16.0,\n",
    "            \"ytick.labelsize\": 16.0,\n",
    "            \"legend.fontsize\": 16.0})\n",
    "\n",
    "import torch\n",
    "import torch.nn.functional as F\n",
    "from fairseq.modules.adaptive_input import AdaptiveInput\n",
    "from fairseq.modules.adaptive_softmax import AdaptiveSoftmax\n",
    "\n",
    "pd.set_option('display.width', 1000)\n",
    "pd.set_option('display.max_colwidth', 199)\n",
    "\n",
    "from itertools import islice\n",
    "import csv\n",
    "import os\n",
    "from collections import Counter\n",
    "from random import shuffle, sample\n",
    "from tqdm.notebook import tqdm\n",
    "tqdm.pandas()\n",
    "\n",
    "import wptools\n",
    "from nltk.corpus import wordnet \n",
    "# import nltk\n",
    "# nltk.download('wordnet')\n",
    "import warnings\n",
    "warnings.filterwarnings('ignore')"
   ]
  },
  {
   "cell_type": "markdown",
   "id": "c362aa9a-36d2-459a-9168-570e639758ee",
   "metadata": {},
   "source": [
    "## Load WikiLM's Vocabulary"
   ]
  },
  {
   "cell_type": "code",
   "execution_count": 3,
   "id": "c2c050b4-0afe-47a1-b7eb-fd3fc4cd5855",
   "metadata": {},
   "outputs": [],
   "source": [
    "model_dir = \"adaptive_lm_wiki103.v2/\"\n",
    "vocab = [['<s>', -1], ['<pad>', -1], ['</s>', -1], ['<unk>', -1]]\n",
    "dict_path = os.path.join(model_dir, \"dict.txt\")\n",
    "with open(dict_path) as fd:\n",
    "    vocab.extend([line.strip('\\n').split(' ') for line in fd.readlines()])\n",
    "tok_to_idx = {tok[0]: idx for idx, tok in enumerate(vocab)}"
   ]
  },
  {
   "cell_type": "markdown",
   "id": "11d5e30f-de08-413f-8f9c-2e7dd25245c7",
   "metadata": {
    "tags": []
   },
   "source": [
    "## Load Data and Compute Saturation Events"
   ]
  },
  {
   "cell_type": "code",
   "execution_count": 5,
   "id": "f93e3abf-3839-46f5-a5de-aac250848c7b",
   "metadata": {},
   "outputs": [],
   "source": [
    "pkl_path = \"dim_coef_with_vectors_10000sents.pkl\"\n",
    "df = pd.read_pickle(pkl_path)"
   ]
  },
  {
   "cell_type": "code",
   "execution_count": 6,
   "id": "ab3ff1ad-8b7b-414f-8da2-4182c283dde8",
   "metadata": {},
   "outputs": [],
   "source": [
    "def get_prefix_target(row):\n",
    "    tokens = row[\"text_\"].split(\" \")\n",
    "    prefix = \" \".join(tokens[:row[\"random_pos\"] + 1])\n",
    "    \n",
    "    if row[\"random_pos\"] + 1 < len(tokens):\n",
    "        target = tokens[row[\"random_pos\"] + 1]\n",
    "    else:\n",
    "        target = \"</>\"\n",
    "    \n",
    "    return prefix, target\n",
    "\n",
    "df[\"text_\"] = df.text.apply(lambda x: \"<s> \" + x)\n",
    "df[[\"prefix\", \"target\"]] = df.apply(lambda x: pd.Series(get_prefix_target(x)), axis=1)"
   ]
  },
  {
   "cell_type": "code",
   "execution_count": 7,
   "id": "4520fc43-91be-48e9-98f0-b0c7ac8545be",
   "metadata": {},
   "outputs": [],
   "source": [
    "df[\"residual_top_tokens\"] = df.residual_top_tokens_idx.apply(lambda x: [\n",
    "    [vocab[token_idx][0] for token_idx in layer_token_idx]\n",
    "    for layer_token_idx in x\n",
    "])\n",
    "df[[f'residual_top_tokens_{i}' for i in range(16)]] = pd.DataFrame(df.residual_top_tokens.tolist(), index= df.index)\n",
    "df[[f'residual_top_tokens_prob_{i}' for i in range(16)]] = pd.DataFrame(df.residual_top_tokens_prob.tolist(), index= df.index)\n",
    "df[\"layer_top_tokens\"] = df.layer_output_top_tokens_idx.apply(lambda x: [\n",
    "    [vocab[token_idx][0] for token_idx in layer_token_idx]\n",
    "    for layer_token_idx in x\n",
    "])\n",
    "df[[f'layer_top_tokens_{i}' for i in range(16)]] = pd.DataFrame(df.layer_top_tokens.tolist(), index= df.index)\n",
    "df[[f'layer_top_tokens_prob_{i}' for i in range(16)]] = pd.DataFrame(df.layer_output_top_tokens_prob.tolist(), index= df.index)\n",
    "\n",
    "df[\"layer_preds\"] = df.layer_output_top_tokens_idx.apply(lambda x: [vocab[layer_preds[0]][0] for layer_preds in x])"
   ]
  },
  {
   "cell_type": "code",
   "execution_count": 8,
   "id": "18602bed-2422-4f7a-b5c5-0cdb1b613d65",
   "metadata": {},
   "outputs": [],
   "source": [
    "def get_top_coeffs(coefs, k):\n",
    "    max_coef_dims = []\n",
    "    max_coef_vals = []\n",
    "    for l in range(16):\n",
    "        arr = np.array(coefs[l][:-1])\n",
    "        ind = np.argpartition(arr, -k)[-k:]\n",
    "\n",
    "        max_coef_dims_l = ind[np.argsort(arr[ind])][::-1]\n",
    "        max_coef_vals_l = [round(arr[i], 4) for i in max_coef_dims_l]\n",
    "        \n",
    "        max_coef_dims.append(max_coef_dims_l)\n",
    "        max_coef_vals.append(max_coef_vals_l)\n",
    "    \n",
    "    return max_coef_dims, max_coef_vals\n",
    "\n",
    "for k in [1, 3, 10]:\n",
    "    df[[f\"max{k}_coef_dims\", f\"max{k}_coef_vals\"]] = df[f\"coeffs_vals\"].apply(lambda x: pd.Series(get_top_coeffs(x, k)))\n",
    "\n",
    "df[[f'max10_coef_dims_{i}' for i in range(16)]] = pd.DataFrame(df.max10_coef_dims.tolist(), index= df.index)\n",
    "df[[f'max10_coef_vals_{i}' for i in range(16)]] = pd.DataFrame(df.max10_coef_vals.tolist(), index= df.index)"
   ]
  },
  {
   "cell_type": "code",
   "execution_count": 9,
   "id": "9d56855e-6d00-4d2c-8499-263d89258713",
   "metadata": {},
   "outputs": [],
   "source": [
    "def get_pred_fix_event_info(row):\n",
    "    layer_preds = row[\"layer_preds\"]\n",
    "    final_pred = layer_preds[-1]\n",
    "    j = tok_to_idx[final_pred]\n",
    "    \n",
    "    # Find the layer where the model outputs its final prediction.\n",
    "    i = 0\n",
    "    while i < len(layer_preds):\n",
    "        if layer_preds[len(layer_preds)-1-i] != final_pred:\n",
    "            break\n",
    "        i += 1\n",
    "    l = 16 - i   # l is between 0 and 15.\n",
    "    \n",
    "    # Get the candidate tokens at that layer -- the tokens that the predicted token eliminated.\n",
    "    if final_pred in row[f\"residual_top_tokens_{l}\"]:\n",
    "        final_pred_idx_in_res = row[f\"residual_top_tokens_{l}\"].index(final_pred)\n",
    "    else:\n",
    "        final_pred_idx_in_res = len(row[f\"residual_top_tokens_{l}\"])\n",
    "    ts = row[f\"residual_top_tokens_{l}\"][:final_pred_idx_in_res]\n",
    "    ts_ids = [\n",
    "        tok_to_idx[tok]\n",
    "        for tok in ts\n",
    "    ]\n",
    "    \n",
    "    return (l, final_pred_idx_in_res, ts, ts_ids, j, final_pred)\n",
    "\n",
    "df[\"pred_fix_event_info\"] = df.apply(\n",
    "    lambda row: get_pred_fix_event_info(row),\n",
    "    axis=1\n",
    ")"
   ]
  },
  {
   "cell_type": "markdown",
   "id": "d71ca51b-8a77-44e2-962b-3a0f86218dc4",
   "metadata": {},
   "source": [
    "## Loading and Processing clusters, Organizing the dataset"
   ]
  },
  {
   "cell_type": "code",
   "execution_count": 11,
   "id": "1bd3c579-01d3-4233-a9a6-33026f43d5ac",
   "metadata": {},
   "outputs": [],
   "source": [
    "clusters = 200\n",
    "predicted_clusters = np.load('cosine_'+str(clusters)+'_projected_values.npy')\n",
    "clsters = {i:[] for i in range(clusters)}\n",
    "clsters_dicted = {i:[] for i in range(clusters)}\n",
    "d = {}\n",
    "inv_d = {}\n",
    "cnt = 0\n",
    "for i in range(16):\n",
    "    for j in range(4096):\n",
    "        d[cnt] = (i,j)\n",
    "        inv_d[(i,j)] = cnt\n",
    "        cnt += 1\n",
    "for i,x in enumerate(predicted_clusters):\n",
    "    clsters[x].append(i)\n",
    "    clsters_dicted[x].append(d[i])\n",
    "inv_map = {vi: k for k, v in clsters_dicted.items() for vi in v}"
   ]
  },
  {
   "cell_type": "code",
   "execution_count": 12,
   "id": "d81eaa5c-da66-49e4-ab77-d474e6906494",
   "metadata": {},
   "outputs": [],
   "source": [
    "my_df = df.copy()\n",
    "my_df['pred_fix_event_info_'] = 0\n",
    "my_df['val_to_cluster'] = None\n",
    "my_df['val_to_cluster_real'] = None\n",
    "my_df['val_to_m'] = None\n",
    "for index, row in my_df.iterrows():\n",
    "    my_df.at[index,'pred_fix_event_info_'] = int(row['pred_fix_event_info'][0])\n",
    "    dr = {}\n",
    "    ddr = {}\n",
    "    dddr = {}\n",
    "    ddddr = {}\n",
    "    for k in range(0,16):\n",
    "        dr[k] = [x for x in my_df.at[index,'max10_coef_dims_'+ str(k)]]\n",
    "        ddr[k] = [df.at[index,'max10_coef_vals_'+ str(k)][i] for i,x in enumerate(my_df.at[index,'max10_coef_dims_'+ str(k)])]\n",
    "        dddr[k] = [inv_map[(k,x)] for x in my_df.at[index,'max10_coef_dims_'+ str(k)]]\n",
    "    my_df.at[index,'val_to_cluster'] = dr\n",
    "    my_df.at[index,'val_to_cluster_real'] = dddr\n",
    "    my_df.at[index,'val_to_m'] = ddr"
   ]
  },
  {
   "cell_type": "markdown",
   "id": "4611d674-60b6-4ae2-bc9b-7143b262b8c0",
   "metadata": {},
   "source": [
    "## Training and Evaluation Function"
   ]
  },
  {
   "cell_type": "code",
   "execution_count": 15,
   "id": "3c20d070-ef19-4a12-a0be-5ecaca0bd891",
   "metadata": {},
   "outputs": [],
   "source": [
    "def train_and_test(train, test):\n",
    "    df_to_train = train.copy()#.drop_duplicates(subset=['text']) #acc 90, save 3.9\n",
    "    to_analyize = []\n",
    "    df_to_test = test.copy()[:].reset_index()\n",
    "    cnt = 0\n",
    "    tot = 0\n",
    "    df_to_test['final_pred_rank'] = 0\n",
    "    df_to_test['pred_freq'] = 0\n",
    "    df_to_test['correct_early_exit'] = False\n",
    "    df_to_test['correct_pred'] = False\n",
    "    df_to_test['saved_layers'] = 0\n",
    "    df_to_test['intersection'] = 0\n",
    "    per_layer_score = {i:([],[]) for i in range(16)}\n",
    "    per_layer_acc = {i:[0,0] for i in range(16)}\n",
    "    y_test, y_pred = [], []\n",
    "    saved_layers = []\n",
    "    succ = []\n",
    "    func = lambda x: int(x)\n",
    "    clustering_format = 'val_to_cluster_real'\n",
    "    intersect_two_lists = lambda l1,l2: [x for x in l1 if x in l2]\n",
    "    all_layers_but = lambda x: [a for a in range(x+1,min(x+8,15))]\n",
    "    def all_layers_but(x):\n",
    "        return [a for a in range(x+1,16)]\n",
    "\n",
    "    def ordered_inter(x1,x2):\n",
    "        cnt = 0\n",
    "        for i in range(len(x1)):\n",
    "            if x1[i] == x2[i]:\n",
    "                cnt+=1\n",
    "        return cnt\n",
    "    comparison_func = ordered_inter\n",
    "    import random\n",
    "\n",
    "    for idx in tqdm(range(len(df_to_test)), leave=False):\n",
    "        for l in range(16):\n",
    "            if l == 15:\n",
    "                break\n",
    "            curr_clusters = df_to_test.at[idx,clustering_format][l]\n",
    "\n",
    "            df_to_trainn = df_to_train.copy()        \n",
    "            df_to_train_ = [g[l] for g in df_to_trainn[df_to_trainn['pred_fix_event_info_'].isin(list(range(l,l+1)))][clustering_format].values]\n",
    "\n",
    "            set_df_to_train = [tuple(i) for i in df_to_train_]\n",
    "            curr_max_intersect = max([comparison_func(a,curr_clusters) for a in set_df_to_train])\n",
    "            curr_mean_intersect = np.mean([comparison_func(a,curr_clusters) for a in set_df_to_train])\n",
    "\n",
    "            df_not_to_train_per_layer = [[g[l] for g in df_to_trainn[df_to_trainn['pred_fix_event_info_']==x][clustering_format].values]\\\n",
    "                                         for x in all_layers_but(l)]\n",
    "            set_df_not_to_train_per_layer = [[tuple(i) for i in x] for x in df_not_to_train_per_layer]\n",
    "            not_curr_max_intersect_per_layer = [max([comparison_func(a,curr_clusters) for a in x]) for x in set_df_not_to_train_per_layer]\n",
    "            not_curr_min_intersect_per_layer = [min([comparison_func(a,curr_clusters) for a in x]) for x in set_df_not_to_train_per_layer]\n",
    "            not_curr_mean_intersect_per_layer = [np.mean([comparison_func(a,curr_clusters) for a in x]) for x in set_df_not_to_train_per_layer]\n",
    "            condition = [curr_max_intersect>not_curr_max_intersect_per_layer[i] and curr_mean_intersect>not_curr_mean_intersect_per_layer[i]  for i in range(len(not_curr_max_intersect_per_layer))]\n",
    "            condition = np.all(condition)\n",
    "            if condition:\n",
    "                break\n",
    "        curr_fixation_layer = df_to_test.at[idx,'pred_fix_event_info_']\n",
    "        fix_pred_top_tokens = df_to_test.at[idx,'layer_top_tokens_{}'.format(curr_fixation_layer)]\n",
    "        df_to_test.at[idx,'pred_freq'] = tok_to_idx[fix_pred_top_tokens[0]]\n",
    "        last_l_preds = df_to_test.at[idx,'layer_top_tokens_{}'.format(15)]\n",
    "        curr_l_preds = df_to_test.at[idx,'layer_top_tokens_{}'.format(l)]\n",
    "        if fix_pred_top_tokens[0] in last_l_preds:\n",
    "            df_to_test.at[idx,'final_pred_rank'] = last_l_preds.index(fix_pred_top_tokens[0])\n",
    "        else:\n",
    "            df_to_test.at[idx,'final_pred_rank'] = -1\n",
    "        if l == df_to_test.at[idx,'pred_fix_event_info_']:\n",
    "            per_layer_score[l][0].append(1)\n",
    "            per_layer_score[l][1].append(1)\n",
    "            df_to_test.at[idx,'correct_early_exit'] = True\n",
    "        else:\n",
    "            per_layer_score[l][0].append(1)\n",
    "            per_layer_score[l][1].append(0)\n",
    "            per_layer_score[df_to_test.at[idx,'pred_fix_event_info_']][0].append(0)\n",
    "            per_layer_score[df_to_test.at[idx,'pred_fix_event_info_']][1].append(1)\n",
    "            if curr_l_preds[0] in last_l_preds:\n",
    "                df_to_test.at[idx,'final_pred_rank'] = last_l_preds.index(curr_l_preds[0])\n",
    "            else:\n",
    "                df_to_test.at[idx,'final_pred_rank'] = -1\n",
    "\n",
    "        df_to_test.at[idx,'saved_layers'] = 15-l\n",
    "        df_to_test.at[idx,'correct_pred'] = True if curr_l_preds[0] == last_l_preds[0] else False\n",
    "        y_test.append(df_to_test.at[idx,'pred_fix_event_info_'])\n",
    "        y_pred.append(l)\n",
    "\n",
    "\n",
    "    if l == df_to_test.at[idx,'pred_fix_event_info_']:\n",
    "        cnt += 1\n",
    "        per_layer_acc[df_to_test.at[idx,'pred_fix_event_info_']][0] += 1\n",
    "    tot += 1\n",
    "    per_layer_acc[df_to_test.at[idx,'pred_fix_event_info_']][1] += 1\n",
    "    t_test = df_to_test[~df_to_test['correct_pred']]\n",
    "    p_test = df_to_test[df_to_test['correct_pred']]\n",
    "    df_to_test['correct_pred'].mean()\n",
    "    # return len(p_test)/len(df_to_test), df_to_test[df_to_test['correct_pred']]['saved_layers'].mean()\n",
    "    return len(p_test)/len(df_to_test), df_to_test['saved_layers'].mean()"
   ]
  },
  {
   "cell_type": "code",
   "execution_count": 16,
   "id": "787ea398-f738-4a45-a533-01dfd238516c",
   "metadata": {},
   "outputs": [
    {
     "data": {
      "application/vnd.jupyter.widget-view+json": {
       "model_id": "62fcf139acfc4bb297d00c4b157bbb71",
       "version_major": 2,
       "version_minor": 0
      },
      "text/plain": [
       "HBox(children=(HTML(value=''), FloatProgress(value=0.0, max=5.0), HTML(value='')))"
      ]
     },
     "metadata": {},
     "output_type": "display_data"
    },
    {
     "data": {
      "application/vnd.jupyter.widget-view+json": {
       "model_id": "",
       "version_major": 2,
       "version_minor": 0
      },
      "text/plain": [
       "HBox(children=(HTML(value=''), FloatProgress(value=0.0, max=1000.0), HTML(value='')))"
      ]
     },
     "metadata": {},
     "output_type": "display_data"
    },
    {
     "data": {
      "application/vnd.jupyter.widget-view+json": {
       "model_id": "",
       "version_major": 2,
       "version_minor": 0
      },
      "text/plain": [
       "HBox(children=(HTML(value=''), FloatProgress(value=0.0, max=1000.0), HTML(value='')))"
      ]
     },
     "metadata": {},
     "output_type": "display_data"
    },
    {
     "data": {
      "application/vnd.jupyter.widget-view+json": {
       "model_id": "",
       "version_major": 2,
       "version_minor": 0
      },
      "text/plain": [
       "HBox(children=(HTML(value=''), FloatProgress(value=0.0, max=1000.0), HTML(value='')))"
      ]
     },
     "metadata": {},
     "output_type": "display_data"
    },
    {
     "data": {
      "application/vnd.jupyter.widget-view+json": {
       "model_id": "",
       "version_major": 2,
       "version_minor": 0
      },
      "text/plain": [
       "HBox(children=(HTML(value=''), FloatProgress(value=0.0, max=1000.0), HTML(value='')))"
      ]
     },
     "metadata": {},
     "output_type": "display_data"
    },
    {
     "data": {
      "application/vnd.jupyter.widget-view+json": {
       "model_id": "",
       "version_major": 2,
       "version_minor": 0
      },
      "text/plain": [
       "HBox(children=(HTML(value=''), FloatProgress(value=0.0, max=1000.0), HTML(value='')))"
      ]
     },
     "metadata": {},
     "output_type": "display_data"
    },
    {
     "name": "stdout",
     "output_type": "stream",
     "text": [
      "\n"
     ]
    }
   ],
   "source": [
    "saved_layers = []\n",
    "accuracies = []\n",
    "for random_seed in tqdm([38,39,40,41,42]):\n",
    "    train, test = \\\n",
    "                  np.split(my_df.sample(frac=1, random_state=random_seed),\n",
    "                           [int(.9*len(df))])\n",
    "\n",
    "    train.reset_index(inplace=True)\n",
    "    test.reset_index(inplace=True)\n",
    "    acc ,saved = train_and_test(train, test)\n",
    "    saved_layers.append(saved)\n",
    "    accuracies.append(acc)"
   ]
  },
  {
   "cell_type": "code",
   "execution_count": 18,
   "id": "1195c64d-fb74-452f-81af-9ddade5c58f5",
   "metadata": {},
   "outputs": [
    {
     "data": {
      "text/html": [
       "<div>\n",
       "<style scoped>\n",
       "    .dataframe tbody tr th:only-of-type {\n",
       "        vertical-align: middle;\n",
       "    }\n",
       "\n",
       "    .dataframe tbody tr th {\n",
       "        vertical-align: top;\n",
       "    }\n",
       "\n",
       "    .dataframe thead th {\n",
       "        text-align: right;\n",
       "    }\n",
       "</style>\n",
       "<table border=\"1\" class=\"dataframe\">\n",
       "  <thead>\n",
       "    <tr style=\"text-align: right;\">\n",
       "      <th></th>\n",
       "      <th>baseline</th>\n",
       "      <th>accuracy</th>\n",
       "      <th>accuracy (std)</th>\n",
       "      <th>saved layers</th>\n",
       "      <th>saved layers (std)</th>\n",
       "    </tr>\n",
       "  </thead>\n",
       "  <tbody>\n",
       "    <tr>\n",
       "      <th>0</th>\n",
       "      <td>Our method</td>\n",
       "      <td>94.86</td>\n",
       "      <td>0.557136</td>\n",
       "      <td>3.3916</td>\n",
       "      <td>0.138319</td>\n",
       "    </tr>\n",
       "  </tbody>\n",
       "</table>\n",
       "</div>"
      ],
      "text/plain": [
       "     baseline  accuracy  accuracy (std)  saved layers  saved layers (std)\n",
       "0  Our method     94.86        0.557136        3.3916            0.138319"
      ]
     },
     "execution_count": 18,
     "metadata": {},
     "output_type": "execute_result"
    }
   ],
   "source": [
    "results = {'baseline':[], 'accuracy':[], 'accuracy (std)':[],'saved layers':[], 'saved layers (std)':[]}\n",
    "results['baseline'].append('Our method')\n",
    "arr_save = np.array(saved_layers)\n",
    "arr_acc = 100*np.array(accuracies)\n",
    "results['saved layers'].append(arr_save.mean())\n",
    "results['accuracy'].append(arr_acc.mean())\n",
    "results['saved layers (std)'].append(arr_save.std())\n",
    "results['accuracy (std)'].append(arr_acc.std())\n",
    "results_df = pd.DataFrame.from_dict(results)\n",
    "results_df"
   ]
  }
 ],
 "metadata": {
  "kernelspec": {
   "display_name": "Python 3",
   "language": "python",
   "name": "python3"
  },
  "language_info": {
   "codemirror_mode": {
    "name": "ipython",
    "version": 3
   },
   "file_extension": ".py",
   "mimetype": "text/x-python",
   "name": "python",
   "nbconvert_exporter": "python",
   "pygments_lexer": "ipython3",
   "version": "3.7.11"
  }
 },
 "nbformat": 4,
 "nbformat_minor": 5
}
