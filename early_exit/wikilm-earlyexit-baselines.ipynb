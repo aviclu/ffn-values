{
 "cells": [
  {
   "cell_type": "code",
   "execution_count": 1,
   "id": "6a894707-602e-4b80-ae5a-f5a19af8e40d",
   "metadata": {},
   "outputs": [],
   "source": [
    "import numpy as np\n",
    "import pandas as pd\n",
    "import seaborn as sns\n",
    "from scipy import stats\n",
    "from matplotlib import pyplot as plt\n",
    "\n",
    "sns.set(rc={'figure.figsize':(8,5),\n",
    "            \"font.size\":16,\n",
    "            \"axes.titlesize\":16,\n",
    "            \"axes.labelsize\":16,\n",
    "            \"xtick.labelsize\": 16.0,\n",
    "            \"ytick.labelsize\": 16.0,\n",
    "            \"legend.fontsize\": 16.0})\n",
    "\n",
    "import torch\n",
    "import torch.nn.functional as F\n",
    "from fairseq.modules.adaptive_input import AdaptiveInput\n",
    "from fairseq.modules.adaptive_softmax import AdaptiveSoftmax\n",
    "\n",
    "pd.set_option('display.width', 1000)\n",
    "pd.set_option('display.max_colwidth', 199)\n",
    "\n",
    "from itertools import islice\n",
    "import csv\n",
    "import os\n",
    "from collections import Counter\n",
    "from random import shuffle, sample\n",
    "from tqdm.notebook import tqdm\n",
    "tqdm.pandas()\n",
    "\n",
    "import wptools\n",
    "from nltk.corpus import wordnet \n",
    "# import nltk\n",
    "# nltk.download('wordnet')\n",
    "import warnings\n",
    "warnings.filterwarnings('ignore')"
   ]
  },
  {
   "cell_type": "markdown",
   "id": "c393769b-173d-4833-af3d-2c9e141cd6a6",
   "metadata": {},
   "source": [
    "## Load WikiLM's Vocabulary"
   ]
  },
  {
   "cell_type": "code",
   "execution_count": 10,
   "id": "c704d3bb-f84a-4cfb-ba5e-411c63820984",
   "metadata": {},
   "outputs": [],
   "source": [
    "model_dir = \"adaptive_lm_wiki103.v2/\"\n",
    "vocab = [['<s>', -1], ['<pad>', -1], ['</s>', -1], ['<unk>', -1]]\n",
    "dict_path = os.path.join(model_dir, \"dict.txt\")\n",
    "with open(dict_path) as fd:\n",
    "    vocab.extend([line.strip('\\n').split(' ') for line in fd.readlines()])\n",
    "tok_to_idx = {tok[0]: idx for idx, tok in enumerate(vocab)}"
   ]
  },
  {
   "cell_type": "markdown",
   "id": "11d5e30f-de08-413f-8f9c-2e7dd25245c7",
   "metadata": {
    "tags": []
   },
   "source": [
    "## Load Data and Compute Saturation Events"
   ]
  },
  {
   "cell_type": "code",
   "execution_count": 2,
   "id": "f93e3abf-3839-46f5-a5de-aac250848c7b",
   "metadata": {},
   "outputs": [],
   "source": [
    "pkl_path = \"dim_coef_with_vectors_10000sents.pkl\"\n",
    "df = pd.read_pickle(pkl_path)"
   ]
  },
  {
   "cell_type": "code",
   "execution_count": 3,
   "id": "ab3ff1ad-8b7b-414f-8da2-4182c283dde8",
   "metadata": {},
   "outputs": [],
   "source": [
    "def get_prefix_target(row):\n",
    "    tokens = row[\"text_\"].split(\" \")\n",
    "    prefix = \" \".join(tokens[:row[\"random_pos\"] + 1])\n",
    "    \n",
    "    if row[\"random_pos\"] + 1 < len(tokens):\n",
    "        target = tokens[row[\"random_pos\"] + 1]\n",
    "    else:\n",
    "        target = \"</>\"\n",
    "    \n",
    "    return prefix, target\n",
    "\n",
    "df[\"text_\"] = df.text.apply(lambda x: \"<s> \" + x)\n",
    "df[[\"prefix\", \"target\"]] = df.apply(lambda x: pd.Series(get_prefix_target(x)), axis=1)"
   ]
  },
  {
   "cell_type": "code",
   "execution_count": 7,
   "id": "4520fc43-91be-48e9-98f0-b0c7ac8545be",
   "metadata": {},
   "outputs": [],
   "source": [
    "df[\"residual_top_tokens\"] = df.residual_top_tokens_idx.apply(lambda x: [\n",
    "    [vocab[token_idx][0] for token_idx in layer_token_idx]\n",
    "    for layer_token_idx in x\n",
    "])\n",
    "df[[f'residual_top_tokens_{i}' for i in range(16)]] = pd.DataFrame(df.residual_top_tokens.tolist(), index= df.index)\n",
    "df[[f'residual_top_tokens_prob_{i}' for i in range(16)]] = pd.DataFrame(df.residual_top_tokens_prob.tolist(), index= df.index)\n",
    "df[\"layer_top_tokens\"] = df.layer_output_top_tokens_idx.apply(lambda x: [\n",
    "    [vocab[token_idx][0] for token_idx in layer_token_idx]\n",
    "    for layer_token_idx in x\n",
    "])\n",
    "df[[f'layer_top_tokens_{i}' for i in range(16)]] = pd.DataFrame(df.layer_top_tokens.tolist(), index= df.index)\n",
    "df[[f'layer_top_tokens_prob_{i}' for i in range(16)]] = pd.DataFrame(df.layer_output_top_tokens_prob.tolist(), index= df.index)\n",
    "\n",
    "df[\"layer_preds\"] = df.layer_output_top_tokens_idx.apply(lambda x: [vocab[layer_preds[0]][0] for layer_preds in x])"
   ]
  },
  {
   "cell_type": "code",
   "execution_count": 8,
   "id": "18602bed-2422-4f7a-b5c5-0cdb1b613d65",
   "metadata": {},
   "outputs": [],
   "source": [
    "def get_top_coeffs(coefs, k):\n",
    "    max_coef_dims = []\n",
    "    max_coef_vals = []\n",
    "    for l in range(16):\n",
    "        arr = np.array(coefs[l][:-1])\n",
    "        ind = np.argpartition(arr, -k)[-k:]\n",
    "\n",
    "        max_coef_dims_l = ind[np.argsort(arr[ind])][::-1]\n",
    "        max_coef_vals_l = [round(arr[i], 4) for i in max_coef_dims_l]\n",
    "        \n",
    "        max_coef_dims.append(max_coef_dims_l)\n",
    "        max_coef_vals.append(max_coef_vals_l)\n",
    "    \n",
    "    return max_coef_dims, max_coef_vals\n",
    "\n",
    "for k in [1, 3, 10]:\n",
    "    df[[f\"max{k}_coef_dims\", f\"max{k}_coef_vals\"]] = df[f\"coeffs_vals\"].apply(lambda x: pd.Series(get_top_coeffs(x, k)))\n",
    "\n",
    "df[[f'max10_coef_dims_{i}' for i in range(16)]] = pd.DataFrame(df.max10_coef_dims.tolist(), index= df.index)\n",
    "df[[f'max10_coef_vals_{i}' for i in range(16)]] = pd.DataFrame(df.max10_coef_vals.tolist(), index= df.index)"
   ]
  },
  {
   "cell_type": "code",
   "execution_count": 11,
   "id": "9d56855e-6d00-4d2c-8499-263d89258713",
   "metadata": {},
   "outputs": [],
   "source": [
    "def get_pred_fix_event_info(row):\n",
    "    layer_preds = row[\"layer_preds\"]\n",
    "    final_pred = layer_preds[-1]\n",
    "    j = tok_to_idx[final_pred]\n",
    "    \n",
    "    # Find the layer where the model outputs its final prediction.\n",
    "    i = 0\n",
    "    while i < len(layer_preds):\n",
    "        if layer_preds[len(layer_preds)-1-i] != final_pred:\n",
    "            break\n",
    "        i += 1\n",
    "    l = 16 - i   # l is between 0 and 15.\n",
    "    \n",
    "    # Get the candidate tokens at that layer -- the tokens that the predicted token eliminated.\n",
    "    if final_pred in row[f\"residual_top_tokens_{l}\"]:\n",
    "        final_pred_idx_in_res = row[f\"residual_top_tokens_{l}\"].index(final_pred)\n",
    "    else:\n",
    "        final_pred_idx_in_res = len(row[f\"residual_top_tokens_{l}\"])\n",
    "    ts = row[f\"residual_top_tokens_{l}\"][:final_pred_idx_in_res]\n",
    "    ts_ids = [\n",
    "        tok_to_idx[tok]\n",
    "        for tok in ts\n",
    "    ]\n",
    "    \n",
    "    return (l, final_pred_idx_in_res, ts, ts_ids, j, final_pred)\n",
    "\n",
    "\n",
    "df[\"pred_fix_event_info\"] = df.apply(\n",
    "    lambda row: get_pred_fix_event_info(row),\n",
    "    axis=1\n",
    ")"
   ]
  },
  {
   "cell_type": "code",
   "execution_count": 12,
   "id": "d81eaa5c-da66-49e4-ab77-d474e6906494",
   "metadata": {},
   "outputs": [],
   "source": [
    "my_df = df.copy()\n",
    "my_df['pred_fix_event_info_'] = 0\n",
    "my_df['val_to_cluster'] = None\n",
    "my_df['val_to_cluster_real'] = None\n",
    "my_df['val_to_m'] = None\n",
    "for index, row in my_df.iterrows():\n",
    "    my_df.at[index,'pred_fix_event_info_'] = int(row['pred_fix_event_info'][0])"
   ]
  },
  {
   "cell_type": "markdown",
   "id": "9e74d926-3d56-4e45-a22d-0fbe6ae36bb0",
   "metadata": {},
   "source": [
    "## Organize Dataset, Split, and Perform Training"
   ]
  },
  {
   "cell_type": "code",
   "execution_count": 13,
   "id": "3ff4c69e-202b-4a53-9ebc-d3e0930c1b1d",
   "metadata": {},
   "outputs": [
    {
     "data": {
      "application/vnd.jupyter.widget-view+json": {
       "model_id": "0ddbc02ac4bf4e5e8e557d7e992368f5",
       "version_major": 2,
       "version_minor": 0
      },
      "text/plain": [
       "HBox(children=(HTML(value=''), FloatProgress(value=0.0, max=5.0), HTML(value='')))"
      ]
     },
     "metadata": {},
     "output_type": "display_data"
    },
    {
     "data": {
      "application/vnd.jupyter.widget-view+json": {
       "model_id": "",
       "version_major": 2,
       "version_minor": 0
      },
      "text/plain": [
       "HBox(children=(HTML(value=''), FloatProgress(value=0.0, max=3.0), HTML(value='')))"
      ]
     },
     "metadata": {},
     "output_type": "display_data"
    },
    {
     "data": {
      "application/vnd.jupyter.widget-view+json": {
       "model_id": "",
       "version_major": 2,
       "version_minor": 0
      },
      "text/plain": [
       "HBox(children=(HTML(value=''), FloatProgress(value=0.0, max=15.0), HTML(value='')))"
      ]
     },
     "metadata": {},
     "output_type": "display_data"
    },
    {
     "data": {
      "application/vnd.jupyter.widget-view+json": {
       "model_id": "",
       "version_major": 2,
       "version_minor": 0
      },
      "text/plain": [
       "HBox(children=(HTML(value=''), FloatProgress(value=0.0, max=1000.0), HTML(value='')))"
      ]
     },
     "metadata": {},
     "output_type": "display_data"
    },
    {
     "data": {
      "application/vnd.jupyter.widget-view+json": {
       "model_id": "",
       "version_major": 2,
       "version_minor": 0
      },
      "text/plain": [
       "HBox(children=(HTML(value=''), FloatProgress(value=0.0, max=15.0), HTML(value='')))"
      ]
     },
     "metadata": {},
     "output_type": "display_data"
    },
    {
     "data": {
      "application/vnd.jupyter.widget-view+json": {
       "model_id": "",
       "version_major": 2,
       "version_minor": 0
      },
      "text/plain": [
       "HBox(children=(HTML(value=''), FloatProgress(value=0.0, max=1000.0), HTML(value='')))"
      ]
     },
     "metadata": {},
     "output_type": "display_data"
    },
    {
     "data": {
      "application/vnd.jupyter.widget-view+json": {
       "model_id": "",
       "version_major": 2,
       "version_minor": 0
      },
      "text/plain": [
       "HBox(children=(HTML(value=''), FloatProgress(value=0.0, max=15.0), HTML(value='')))"
      ]
     },
     "metadata": {},
     "output_type": "display_data"
    },
    {
     "data": {
      "application/vnd.jupyter.widget-view+json": {
       "model_id": "",
       "version_major": 2,
       "version_minor": 0
      },
      "text/plain": [
       "HBox(children=(HTML(value=''), FloatProgress(value=0.0, max=1000.0), HTML(value='')))"
      ]
     },
     "metadata": {},
     "output_type": "display_data"
    },
    {
     "data": {
      "application/vnd.jupyter.widget-view+json": {
       "model_id": "",
       "version_major": 2,
       "version_minor": 0
      },
      "text/plain": [
       "HBox(children=(HTML(value=''), FloatProgress(value=0.0, max=3.0), HTML(value='')))"
      ]
     },
     "metadata": {},
     "output_type": "display_data"
    },
    {
     "data": {
      "application/vnd.jupyter.widget-view+json": {
       "model_id": "",
       "version_major": 2,
       "version_minor": 0
      },
      "text/plain": [
       "HBox(children=(HTML(value=''), FloatProgress(value=0.0, max=15.0), HTML(value='')))"
      ]
     },
     "metadata": {},
     "output_type": "display_data"
    },
    {
     "data": {
      "application/vnd.jupyter.widget-view+json": {
       "model_id": "",
       "version_major": 2,
       "version_minor": 0
      },
      "text/plain": [
       "HBox(children=(HTML(value=''), FloatProgress(value=0.0, max=1000.0), HTML(value='')))"
      ]
     },
     "metadata": {},
     "output_type": "display_data"
    },
    {
     "data": {
      "application/vnd.jupyter.widget-view+json": {
       "model_id": "",
       "version_major": 2,
       "version_minor": 0
      },
      "text/plain": [
       "HBox(children=(HTML(value=''), FloatProgress(value=0.0, max=15.0), HTML(value='')))"
      ]
     },
     "metadata": {},
     "output_type": "display_data"
    },
    {
     "data": {
      "application/vnd.jupyter.widget-view+json": {
       "model_id": "",
       "version_major": 2,
       "version_minor": 0
      },
      "text/plain": [
       "HBox(children=(HTML(value=''), FloatProgress(value=0.0, max=1000.0), HTML(value='')))"
      ]
     },
     "metadata": {},
     "output_type": "display_data"
    },
    {
     "data": {
      "application/vnd.jupyter.widget-view+json": {
       "model_id": "",
       "version_major": 2,
       "version_minor": 0
      },
      "text/plain": [
       "HBox(children=(HTML(value=''), FloatProgress(value=0.0, max=15.0), HTML(value='')))"
      ]
     },
     "metadata": {},
     "output_type": "display_data"
    },
    {
     "data": {
      "application/vnd.jupyter.widget-view+json": {
       "model_id": "",
       "version_major": 2,
       "version_minor": 0
      },
      "text/plain": [
       "HBox(children=(HTML(value=''), FloatProgress(value=0.0, max=1000.0), HTML(value='')))"
      ]
     },
     "metadata": {},
     "output_type": "display_data"
    },
    {
     "data": {
      "application/vnd.jupyter.widget-view+json": {
       "model_id": "",
       "version_major": 2,
       "version_minor": 0
      },
      "text/plain": [
       "HBox(children=(HTML(value=''), FloatProgress(value=0.0, max=3.0), HTML(value='')))"
      ]
     },
     "metadata": {},
     "output_type": "display_data"
    },
    {
     "data": {
      "application/vnd.jupyter.widget-view+json": {
       "model_id": "",
       "version_major": 2,
       "version_minor": 0
      },
      "text/plain": [
       "HBox(children=(HTML(value=''), FloatProgress(value=0.0, max=15.0), HTML(value='')))"
      ]
     },
     "metadata": {},
     "output_type": "display_data"
    },
    {
     "data": {
      "application/vnd.jupyter.widget-view+json": {
       "model_id": "",
       "version_major": 2,
       "version_minor": 0
      },
      "text/plain": [
       "HBox(children=(HTML(value=''), FloatProgress(value=0.0, max=1000.0), HTML(value='')))"
      ]
     },
     "metadata": {},
     "output_type": "display_data"
    },
    {
     "data": {
      "application/vnd.jupyter.widget-view+json": {
       "model_id": "",
       "version_major": 2,
       "version_minor": 0
      },
      "text/plain": [
       "HBox(children=(HTML(value=''), FloatProgress(value=0.0, max=15.0), HTML(value='')))"
      ]
     },
     "metadata": {},
     "output_type": "display_data"
    },
    {
     "data": {
      "application/vnd.jupyter.widget-view+json": {
       "model_id": "",
       "version_major": 2,
       "version_minor": 0
      },
      "text/plain": [
       "HBox(children=(HTML(value=''), FloatProgress(value=0.0, max=1000.0), HTML(value='')))"
      ]
     },
     "metadata": {},
     "output_type": "display_data"
    },
    {
     "data": {
      "application/vnd.jupyter.widget-view+json": {
       "model_id": "",
       "version_major": 2,
       "version_minor": 0
      },
      "text/plain": [
       "HBox(children=(HTML(value=''), FloatProgress(value=0.0, max=15.0), HTML(value='')))"
      ]
     },
     "metadata": {},
     "output_type": "display_data"
    },
    {
     "data": {
      "application/vnd.jupyter.widget-view+json": {
       "model_id": "",
       "version_major": 2,
       "version_minor": 0
      },
      "text/plain": [
       "HBox(children=(HTML(value=''), FloatProgress(value=0.0, max=1000.0), HTML(value='')))"
      ]
     },
     "metadata": {},
     "output_type": "display_data"
    },
    {
     "data": {
      "application/vnd.jupyter.widget-view+json": {
       "model_id": "",
       "version_major": 2,
       "version_minor": 0
      },
      "text/plain": [
       "HBox(children=(HTML(value=''), FloatProgress(value=0.0, max=3.0), HTML(value='')))"
      ]
     },
     "metadata": {},
     "output_type": "display_data"
    },
    {
     "data": {
      "application/vnd.jupyter.widget-view+json": {
       "model_id": "",
       "version_major": 2,
       "version_minor": 0
      },
      "text/plain": [
       "HBox(children=(HTML(value=''), FloatProgress(value=0.0, max=15.0), HTML(value='')))"
      ]
     },
     "metadata": {},
     "output_type": "display_data"
    },
    {
     "data": {
      "application/vnd.jupyter.widget-view+json": {
       "model_id": "",
       "version_major": 2,
       "version_minor": 0
      },
      "text/plain": [
       "HBox(children=(HTML(value=''), FloatProgress(value=0.0, max=1000.0), HTML(value='')))"
      ]
     },
     "metadata": {},
     "output_type": "display_data"
    },
    {
     "data": {
      "application/vnd.jupyter.widget-view+json": {
       "model_id": "",
       "version_major": 2,
       "version_minor": 0
      },
      "text/plain": [
       "HBox(children=(HTML(value=''), FloatProgress(value=0.0, max=15.0), HTML(value='')))"
      ]
     },
     "metadata": {},
     "output_type": "display_data"
    },
    {
     "data": {
      "application/vnd.jupyter.widget-view+json": {
       "model_id": "",
       "version_major": 2,
       "version_minor": 0
      },
      "text/plain": [
       "HBox(children=(HTML(value=''), FloatProgress(value=0.0, max=1000.0), HTML(value='')))"
      ]
     },
     "metadata": {},
     "output_type": "display_data"
    },
    {
     "data": {
      "application/vnd.jupyter.widget-view+json": {
       "model_id": "",
       "version_major": 2,
       "version_minor": 0
      },
      "text/plain": [
       "HBox(children=(HTML(value=''), FloatProgress(value=0.0, max=15.0), HTML(value='')))"
      ]
     },
     "metadata": {},
     "output_type": "display_data"
    },
    {
     "data": {
      "application/vnd.jupyter.widget-view+json": {
       "model_id": "",
       "version_major": 2,
       "version_minor": 0
      },
      "text/plain": [
       "HBox(children=(HTML(value=''), FloatProgress(value=0.0, max=1000.0), HTML(value='')))"
      ]
     },
     "metadata": {},
     "output_type": "display_data"
    },
    {
     "data": {
      "application/vnd.jupyter.widget-view+json": {
       "model_id": "",
       "version_major": 2,
       "version_minor": 0
      },
      "text/plain": [
       "HBox(children=(HTML(value=''), FloatProgress(value=0.0, max=3.0), HTML(value='')))"
      ]
     },
     "metadata": {},
     "output_type": "display_data"
    },
    {
     "data": {
      "application/vnd.jupyter.widget-view+json": {
       "model_id": "",
       "version_major": 2,
       "version_minor": 0
      },
      "text/plain": [
       "HBox(children=(HTML(value=''), FloatProgress(value=0.0, max=15.0), HTML(value='')))"
      ]
     },
     "metadata": {},
     "output_type": "display_data"
    },
    {
     "data": {
      "application/vnd.jupyter.widget-view+json": {
       "model_id": "",
       "version_major": 2,
       "version_minor": 0
      },
      "text/plain": [
       "HBox(children=(HTML(value=''), FloatProgress(value=0.0, max=1000.0), HTML(value='')))"
      ]
     },
     "metadata": {},
     "output_type": "display_data"
    },
    {
     "data": {
      "application/vnd.jupyter.widget-view+json": {
       "model_id": "",
       "version_major": 2,
       "version_minor": 0
      },
      "text/plain": [
       "HBox(children=(HTML(value=''), FloatProgress(value=0.0, max=15.0), HTML(value='')))"
      ]
     },
     "metadata": {},
     "output_type": "display_data"
    },
    {
     "data": {
      "application/vnd.jupyter.widget-view+json": {
       "model_id": "",
       "version_major": 2,
       "version_minor": 0
      },
      "text/plain": [
       "HBox(children=(HTML(value=''), FloatProgress(value=0.0, max=1000.0), HTML(value='')))"
      ]
     },
     "metadata": {},
     "output_type": "display_data"
    },
    {
     "data": {
      "application/vnd.jupyter.widget-view+json": {
       "model_id": "",
       "version_major": 2,
       "version_minor": 0
      },
      "text/plain": [
       "HBox(children=(HTML(value=''), FloatProgress(value=0.0, max=15.0), HTML(value='')))"
      ]
     },
     "metadata": {},
     "output_type": "display_data"
    },
    {
     "data": {
      "application/vnd.jupyter.widget-view+json": {
       "model_id": "",
       "version_major": 2,
       "version_minor": 0
      },
      "text/plain": [
       "HBox(children=(HTML(value=''), FloatProgress(value=0.0, max=1000.0), HTML(value='')))"
      ]
     },
     "metadata": {},
     "output_type": "display_data"
    },
    {
     "name": "stdout",
     "output_type": "stream",
     "text": [
      "\n"
     ]
    }
   ],
   "source": [
    "from sklearn import datasets, svm, metrics\n",
    "from sklearn.svm import SVC\n",
    "from sklearn.model_selection import StratifiedKFold, GridSearchCV\n",
    "from sklearn.model_selection import KFold\n",
    "from sklearn.preprocessing import StandardScaler\n",
    "from sklearn.linear_model import LogisticRegression\n",
    "from sklearn.metrics import precision_recall_curve\n",
    "\n",
    "def organize_df_for_model(df, vec_type = 'sum', train=True):\n",
    "    vecs_data = {i:[] for i in range(num_layers)}\n",
    "    for idx in range(len(df)):\n",
    "        if vec_type=='sum':\n",
    "            curr_vecs = df.at[idx, 'residual_vectors'] + df.at[idx, 'ffn_output_vectors']\n",
    "        else:\n",
    "            curr_vecs = df.at[idx, vec_type]\n",
    "        curr_fixation_layer = df.at[idx,'pred_fix_event_info_']\n",
    "        for l in range(num_layers):\n",
    "            vec = np.squeeze(np.array(curr_vecs[l]))\n",
    "            if l == curr_fixation_layer:\n",
    "                vecs_data[l].append((vec,1))\n",
    "            else:\n",
    "                vecs_data[l].append((vec,0))\n",
    "\n",
    "    return vecs_data\n",
    "\n",
    "num_layers = 16\n",
    "saved_layers_results = {'residual_vectors':[],'ffn_output_vectors':[], 'sum':[]}\n",
    "accuracy_results = {'residual_vectors':[],'ffn_output_vectors':[], 'sum':[]}\n",
    "for random_seed in tqdm([38,39,40,41,42]):\n",
    "    train_df, validate_df, test_df = \\\n",
    "              np.split(my_df.sample(frac=1, random_state=random_seed), \n",
    "                       [int(.8*len(my_df)), int(0.9*len(my_df))])\n",
    "    train_df = train_df.reset_index()\n",
    "    validate_df = validate_df.reset_index()\n",
    "    test_df = test_df.reset_index()\n",
    "    for feature_vec in tqdm(['residual_vectors','ffn_output_vectors', 'sum'], leave=False):\n",
    "        train_data = organize_df_for_model(train_df, vec_type=feature_vec)\n",
    "        validation_data = organize_df_for_model(validate_df, train=False, vec_type=feature_vec)\n",
    "        test_data= organize_df_for_model(test_df, train=False, vec_type=feature_vec)\n",
    "        best_scores = []\n",
    "        best_estimators = []\n",
    "        scalers = []\n",
    "        for l in tqdm(range(num_layers-1), leave=False):\n",
    "            sc = StandardScaler()\n",
    "            X = train_data[l]\n",
    "            X_train, y_train = [x[0] for x in X], [x[1] for x in X]\n",
    "            model = LogisticRegression(solver='liblinear')\n",
    "            X_train = sc.fit_transform(X_train)\n",
    "            scalers.append(sc)\n",
    "            grid={\"C\":np.logspace(-3,3,7), \"penalty\":[\"l1\",\"l2\"],\"class_weight\":['balanced']}# l1 lasso l2 ridge\n",
    "            logreg=LogisticRegression()\n",
    "            logreg_cv=GridSearchCV(logreg,grid,cv=8)\n",
    "            logreg_cv.fit(X_train,y_train)\n",
    "\n",
    "            best_scores.append(logreg_cv.best_score_)\n",
    "            best_estimators.append(logreg_cv.best_estimator_)\n",
    "        valid_data_probas = []\n",
    "        threshes = []\n",
    "        for l in range(num_layers-1):\n",
    "            sc = StandardScaler()\n",
    "            valid_data_scaled_l = np.array(sc.fit_transform(np.array([x[0] for x in validation_data[l]])))\n",
    "            valid_labels = [x[1] for x in validation_data[l]]\n",
    "            model = best_estimators[l]\n",
    "            probas = model.predict_proba(valid_data_scaled_l)[:,1]\n",
    "            precision, recall, thresholds = precision_recall_curve(valid_labels, probas)\n",
    "            f1 = 2*precision*recall/(precision+recall)\n",
    "            threshes.append(thresholds[np.where(precision>=0.75)[0][0]-1])\n",
    "        test_data_scaled = []\n",
    "        for l in range(num_layers-1):\n",
    "            test_data_scaled.append(scalers[l].transform(np.array([x[0] for x in test_data[l]])))\n",
    "        to_analyize = []\n",
    "        df_to_test = test_df.copy()[:].reset_index()\n",
    "        cnt = 0\n",
    "        tot = 0\n",
    "        df_to_test['final_pred_rank'] = 0\n",
    "        df_to_test['pred_freq'] = 0\n",
    "        df_to_test['correct_early_exit'] = False\n",
    "        df_to_test['correct_pred'] = False\n",
    "        df_to_test['saved_layers'] = 0\n",
    "        df_to_test['intersection'] = 0\n",
    "        per_layer_score = {i:([],[]) for i in range(num_layers)}\n",
    "        per_layer_acc = {i:[0,0] for i in range(num_layers)}\n",
    "        y_test, y_pred = [], []\n",
    "        saved_layers = []\n",
    "        succ = []\n",
    "        def all_layers_but(x):\n",
    "            a1 = [a for a in range(x+1,num_layers)]\n",
    "            return a1 \n",
    "\n",
    "\n",
    "        for idx in tqdm(range(len(df_to_test)), leave=False):\n",
    "            for l in range(16):\n",
    "                if l == 15:\n",
    "                    break\n",
    "                model = best_estimators[l]\n",
    "                X_test = test_data_scaled[l][idx]\n",
    "                if model.predict_proba(X_test.reshape(1,-1))[0][1]>threshes[l]:\n",
    "                    break\n",
    "            curr_fixation_layer = df_to_test.at[idx,'pred_fix_event_info_']\n",
    "            fix_pred_top_tokens = df_to_test.at[idx,'layer_top_tokens_{}'.format(curr_fixation_layer)]\n",
    "            df_to_test.at[idx,'pred_freq'] = tok_to_idx[fix_pred_top_tokens[0]]\n",
    "            last_l_preds = df_to_test.at[idx,'layer_top_tokens_{}'.format(num_layers-1)]\n",
    "            curr_l_preds = df_to_test.at[idx,'layer_top_tokens_{}'.format(l)]\n",
    "            if fix_pred_top_tokens[0] in last_l_preds:\n",
    "                df_to_test.at[idx,'final_pred_rank'] = last_l_preds.index(fix_pred_top_tokens[0])\n",
    "            else:\n",
    "                df_to_test.at[idx,'final_pred_rank'] = -1\n",
    "            if l == df_to_test.at[idx,'pred_fix_event_info_']:\n",
    "                per_layer_score[l][0].append(1)\n",
    "                per_layer_score[l][1].append(1)\n",
    "                df_to_test.at[idx,'correct_early_exit'] = True\n",
    "            else:\n",
    "                per_layer_score[l][0].append(1)\n",
    "                per_layer_score[l][1].append(0)\n",
    "                per_layer_score[df_to_test.at[idx,'pred_fix_event_info_']][0].append(0)\n",
    "                per_layer_score[df_to_test.at[idx,'pred_fix_event_info_']][1].append(1)\n",
    "                if curr_l_preds[0] in last_l_preds:\n",
    "                    df_to_test.at[idx,'final_pred_rank'] = last_l_preds.index(curr_l_preds[0])\n",
    "                else:\n",
    "                    df_to_test.at[idx,'final_pred_rank'] = -1\n",
    "\n",
    "            df_to_test.at[idx,'saved_layers'] = 15-l\n",
    "            df_to_test.at[idx,'correct_pred'] = True if curr_l_preds[0] == last_l_preds[0] else False\n",
    "            y_test.append(df_to_test.at[idx,'pred_fix_event_info_'])\n",
    "            y_pred.append(l)\n",
    "\n",
    "            if l == df_to_test.at[idx,'pred_fix_event_info_']:\n",
    "                cnt += 1\n",
    "                per_layer_acc[df_to_test.at[idx,'pred_fix_event_info_']][0] += 1\n",
    "            tot += 1\n",
    "            per_layer_acc[df_to_test.at[idx,'pred_fix_event_info_']][1] += 1\n",
    "            t_test = df_to_test[~df_to_test['correct_pred']]\n",
    "        p_test = df_to_test[df_to_test['correct_pred']]\n",
    "        accuracy_results[feature_vec].append(len(p_test)/len(df_to_test))\n",
    "        saved_layers_results[feature_vec].append(df_to_test['saved_layers'].mean())"
   ]
  },
  {
   "cell_type": "code",
   "execution_count": 16,
   "id": "47124cd5-50cf-446c-84e2-750f5b3b13db",
   "metadata": {},
   "outputs": [
    {
     "data": {
      "text/html": [
       "<div>\n",
       "<style scoped>\n",
       "    .dataframe tbody tr th:only-of-type {\n",
       "        vertical-align: middle;\n",
       "    }\n",
       "\n",
       "    .dataframe tbody tr th {\n",
       "        vertical-align: top;\n",
       "    }\n",
       "\n",
       "    .dataframe thead th {\n",
       "        text-align: right;\n",
       "    }\n",
       "</style>\n",
       "<table border=\"1\" class=\"dataframe\">\n",
       "  <thead>\n",
       "    <tr style=\"text-align: right;\">\n",
       "      <th></th>\n",
       "      <th>baseline</th>\n",
       "      <th>accuracy</th>\n",
       "      <th>accuracy (std)</th>\n",
       "      <th>saved layers</th>\n",
       "      <th>saved layers (std)</th>\n",
       "    </tr>\n",
       "  </thead>\n",
       "  <tbody>\n",
       "    <tr>\n",
       "      <th>0</th>\n",
       "      <td>residual_vectors</td>\n",
       "      <td>94.4</td>\n",
       "      <td>2.128849</td>\n",
       "      <td>3.6046</td>\n",
       "      <td>0.542955</td>\n",
       "    </tr>\n",
       "    <tr>\n",
       "      <th>1</th>\n",
       "      <td>ffn_output_vectors</td>\n",
       "      <td>92.9</td>\n",
       "      <td>1.473771</td>\n",
       "      <td>3.8034</td>\n",
       "      <td>0.445841</td>\n",
       "    </tr>\n",
       "    <tr>\n",
       "      <th>2</th>\n",
       "      <td>sum</td>\n",
       "      <td>94.4</td>\n",
       "      <td>2.128849</td>\n",
       "      <td>3.6046</td>\n",
       "      <td>0.542955</td>\n",
       "    </tr>\n",
       "  </tbody>\n",
       "</table>\n",
       "</div>"
      ],
      "text/plain": [
       "             baseline  accuracy  accuracy (std)  saved layers  saved layers (std)\n",
       "0    residual_vectors      94.4        2.128849        3.6046            0.542955\n",
       "1  ffn_output_vectors      92.9        1.473771        3.8034            0.445841\n",
       "2                 sum      94.4        2.128849        3.6046            0.542955"
      ]
     },
     "execution_count": 16,
     "metadata": {},
     "output_type": "execute_result"
    }
   ],
   "source": [
    "results = {'baseline':[], 'accuracy':[], 'accuracy (std)':[],'saved layers':[], 'saved layers (std)':[]}\n",
    "for k in saved_layers_results.keys():\n",
    "    results['baseline'].append(k)\n",
    "    arr_save = np.array(saved_layers_results[k])\n",
    "    arr_acc = 100*np.array(accuracy_results[k])\n",
    "    results['saved layers'].append(arr_save.mean())\n",
    "    results['accuracy'].append(arr_acc.mean())\n",
    "    results['saved layers (std)'].append(arr_save.std())\n",
    "    results['accuracy (std)'].append(arr_acc.std())\n",
    "results_df = pd.DataFrame.from_dict(results)\n",
    "results_df"
   ]
  }
 ],
 "metadata": {
  "kernelspec": {
   "display_name": "Python 3",
   "language": "python",
   "name": "python3"
  },
  "language_info": {
   "codemirror_mode": {
    "name": "ipython",
    "version": 3
   },
   "file_extension": ".py",
   "mimetype": "text/x-python",
   "name": "python",
   "nbconvert_exporter": "python",
   "pygments_lexer": "ipython3",
   "version": "3.7.11"
  }
 },
 "nbformat": 4,
 "nbformat_minor": 5
}
